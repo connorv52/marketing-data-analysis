{
 "cells": [
  {
   "cell_type": "markdown",
   "id": "17fd9b01",
   "metadata": {},
   "source": [
    "# Customer Reviews Enrichment & Sentiment Analysis"
   ]
  },
  {
   "cell_type": "markdown",
   "id": "034dd5c3",
   "metadata": {},
   "source": [
    "While querying to clean and assess the overall picture of the marketing firm's (Shopverge) data, an opportunity to run sentiment analysis on the customer text reviews presented itself. Pairing this analysis with the numerical ratings given by customers should help give us a more clear picture of how they feel about certain products as well as serve as an opportunity for Shopverge to better structure their marketing campaigns. "
   ]
  },
  {
   "cell_type": "code",
   "execution_count": 1,
   "id": "f34b3381",
   "metadata": {},
   "outputs": [
    {
     "name": "stdout",
     "output_type": "stream",
     "text": [
      "Requirement already satisfied: pandas in c:\\users\\connor\\anaconda3\\lib\\site-packages (1.5.3)\n",
      "Requirement already satisfied: nltk in c:\\users\\connor\\anaconda3\\lib\\site-packages (3.8.1)\n",
      "Requirement already satisfied: pyodbc in c:\\users\\connor\\anaconda3\\lib\\site-packages (4.0.34)\n",
      "Requirement already satisfied: sqlalchemy in c:\\users\\connor\\anaconda3\\lib\\site-packages (1.4.39)\n",
      "Requirement already satisfied: python-dateutil>=2.8.1 in c:\\users\\connor\\anaconda3\\lib\\site-packages (from pandas) (2.8.2)\n",
      "Requirement already satisfied: pytz>=2020.1 in c:\\users\\connor\\anaconda3\\lib\\site-packages (from pandas) (2023.3.post1)\n",
      "Requirement already satisfied: numpy>=1.21.0 in c:\\users\\connor\\anaconda3\\lib\\site-packages (from pandas) (1.24.3)\n",
      "Requirement already satisfied: click in c:\\users\\connor\\anaconda3\\lib\\site-packages (from nltk) (8.0.4)\n",
      "Requirement already satisfied: joblib in c:\\users\\connor\\anaconda3\\lib\\site-packages (from nltk) (1.2.0)\n",
      "Requirement already satisfied: regex>=2021.8.3 in c:\\users\\connor\\anaconda3\\lib\\site-packages (from nltk) (2022.7.9)\n",
      "Requirement already satisfied: tqdm in c:\\users\\connor\\anaconda3\\lib\\site-packages (from nltk) (4.65.0)\n",
      "Requirement already satisfied: greenlet!=0.4.17 in c:\\users\\connor\\anaconda3\\lib\\site-packages (from sqlalchemy) (2.0.1)\n",
      "Requirement already satisfied: six>=1.5 in c:\\users\\connor\\anaconda3\\lib\\site-packages (from python-dateutil>=2.8.1->pandas) (1.16.0)\n",
      "Requirement already satisfied: colorama in c:\\users\\connor\\anaconda3\\lib\\site-packages (from click->nltk) (0.4.6)\n",
      "Note: you may need to restart the kernel to use updated packages.\n"
     ]
    }
   ],
   "source": [
    "pip install pandas nltk pyodbc sqlalchemy"
   ]
  },
  {
   "cell_type": "code",
   "execution_count": 3,
   "id": "fc0d08f6",
   "metadata": {},
   "outputs": [],
   "source": [
    "# Import the libraries we will require for sentiment analysis\n",
    "import pandas as pd\n",
    "import pyodbc\n",
    "import nltk\n",
    "from nltk.sentiment.vader import SentimentIntensityAnalyzer"
   ]
  },
  {
   "cell_type": "code",
   "execution_count": 4,
   "id": "aaa45fb3",
   "metadata": {},
   "outputs": [
    {
     "name": "stderr",
     "output_type": "stream",
     "text": [
      "[nltk_data] Downloading package vader_lexicon to\n",
      "[nltk_data]     C:\\Users\\Connor\\AppData\\Roaming\\nltk_data...\n"
     ]
    },
    {
     "data": {
      "text/plain": [
       "True"
      ]
     },
     "execution_count": 4,
     "metadata": {},
     "output_type": "execute_result"
    }
   ],
   "source": [
    "nltk.download('vader_lexicon')"
   ]
  },
  {
   "cell_type": "code",
   "execution_count": 9,
   "id": "8359abba",
   "metadata": {},
   "outputs": [
    {
     "name": "stderr",
     "output_type": "stream",
     "text": [
      "C:\\Users\\Connor\\AppData\\Local\\Temp\\ipykernel_28940\\2480533743.py:25: UserWarning: pandas only supports SQLAlchemy connectable (engine/connection) or database string URI or sqlite3 DBAPI2 connection. Other DBAPI2 objects are not tested. Please consider using SQLAlchemy.\n",
      "  df = pd.read_sql(query, conn) # Executes the query and fetches the data into a DataFrame for easy analysis\n"
     ]
    }
   ],
   "source": [
    "# We will need to define a function that fetches data from our SQL database using a SQL query\n",
    "def fetch_data_from_sql():\n",
    "    # Defines the connection string with parameters for the database connection\n",
    "    conn_str = (\n",
    "        \"Driver={SQL Server};\" # Driver for SQL Server\n",
    "        \"Server=DESKTOP-0J26I2S\\\\SQLEXPRESS;\" # SQL Server Instance\n",
    "        \"Database=PortfolioProject_MarketingAnalytics;\" # Database name\n",
    "        \"Trusted_Connection=yes;\" # Windows Authentication \n",
    "    )\n",
    "    conn = pyodbc.connect(conn_str) # Establishes the connection to the database\n",
    "    \n",
    "    query = \"\"\"\n",
    "    SELECT\n",
    "        ReviewID,\n",
    "        CustomerID,\n",
    "        ProductID,\n",
    "        ReviewDate,\n",
    "        Rating,\n",
    "        REPLACE(ReviewText, '  ', ' ') AS ReviewText\n",
    "    FROM\n",
    "        dbo.customer_reviews\n",
    "    \"\"\" \n",
    "    # Defines the SQL query to fetch customer reviews data\n",
    "    \n",
    "    df = pd.read_sql(query, conn) # Executes the query and fetches the data into a DataFrame for easy analysis\n",
    "    \n",
    "    conn.close() #Closes the connection (free up resources)\n",
    "    \n",
    "    return df # Returns the fetched data as a DataFrame\n",
    "\n",
    "customer_reviews_df = fetch_data_from_sql()\n",
    "\n",
    "sia = SentimentIntensityAnalyzer()\n",
    "\n",
    "# Function to calculate sentiment scores\n",
    "def calculate_sentiment(review): \n",
    "    sentiment = sia.polarity_scores(review) # Sentiment scores for the review text\n",
    "    return sentiment['compound'] # Compound scores, normalized between -1 (most negative) and 1 (most positive)\n",
    "\n",
    "def categorize_sentiment(score, rating): # Function to categorize sentiment using both text AND rating\n",
    "    if score > 0.05: # Positive sentiment score\n",
    "        if rating >= 4:\n",
    "            return 'Positive' # High rating, positive sentiment\n",
    "        elif rating == 3:\n",
    "            return 'Mixed Positive' # Neutral rating, positive sentiment\n",
    "        else:\n",
    "            return 'Mixed Negative' # Low rating, positive sentiment\n",
    "    elif score < -0.05: # Negative sentiment score\n",
    "        if rating <= 2:\n",
    "            return 'Negative'# Low rating, negative sentiment\n",
    "        elif rating == 3:\n",
    "            return 'Mixed Negative' # Neutral rating, negative sentiment\n",
    "        else:\n",
    "            return 'Mixed Positive' # High rating, negative sentiment\n",
    "    else: # Neutral sentiment score\n",
    "        if rating >= 4:\n",
    "            return 'Positive' # High rating, neutral sentiment\n",
    "        elif rating <= 2:\n",
    "            return 'Negative' # Low rating, neutral sentiment\n",
    "        else:\n",
    "            return 'Neutral' # Neutral rating, neutral sentiment\n",
    "\n",
    "# Function to bucket sentiment scores into text ranges\n",
    "def sentiment_bucket(score):\n",
    "    if score >= 0.5:\n",
    "        return '0.5 to 1.0' # Strong positive sentiment\n",
    "    elif 0.0 <= score < 0.5: \n",
    "        return '0.0 to 0.49' # Positive sentiment\n",
    "    elif -0.5 <= score < 0.0:\n",
    "        return '-0.49 to 0.0' # Negative sentiment\n",
    "    else:\n",
    "        return '-1.0 to -0.5' # Strong negative sentiment\n",
    "\n",
    "# Apply sentiment analysis to calculate sentiment scores for each review\n",
    "customer_reviews_df['SentimentScore'] = customer_reviews_df['ReviewText'].apply(calculate_sentiment)\n",
    "\n",
    "# Apply sentiment categorization using both text and rating\n",
    "customer_reviews_df['SentimentCategory'] = customer_reviews_df.apply(\n",
    "    lambda row: categorize_sentiment(row['SentimentScore'], row['Rating']), axis=1)\n",
    "\n",
    "# Apply sentiment bucketing to categorize scores into defined ranges\n",
    "customer_reviews_df['SentimentBucket'] = customer_reviews_df['SentimentScore'].apply(sentiment_bucket)\n",
    "\n"
   ]
  },
  {
   "cell_type": "code",
   "execution_count": 8,
   "id": "8f48b29f",
   "metadata": {},
   "outputs": [
    {
     "name": "stdout",
     "output_type": "stream",
     "text": [
      "   ReviewID  CustomerID  ProductID  ReviewDate  Rating  \\\n",
      "0         1          77         18  2023-12-23       3   \n",
      "1         2          80         19  2024-12-25       5   \n",
      "2         3          50         13  2025-01-26       4   \n",
      "3         4          78         15  2025-04-21       3   \n",
      "4         5          64          2  2023-07-16       3   \n",
      "\n",
      "                             ReviewText  SentimentScore SentimentCategory  \\\n",
      "0  Average experience, nothing special.         -0.3089    Mixed Negative   \n",
      "1            The quality is  top-notch.          0.0000          Positive   \n",
      "2    Five stars for the quick delivery.          0.0000          Positive   \n",
      "3   Good quality, but could be cheaper.          0.2382    Mixed Positive   \n",
      "4  Average experience, nothing special.         -0.3089    Mixed Negative   \n",
      "\n",
      "  SentimentBucket  \n",
      "0    -0.49 to 0.0  \n",
      "1     0.0 to 0.49  \n",
      "2     0.0 to 0.49  \n",
      "3     0.0 to 0.49  \n",
      "4    -0.49 to 0.0  \n"
     ]
    }
   ],
   "source": [
    "# Display the first few rows of the DatFrame with sentiment scores, categories, and buckets\n",
    "print(customer_reviews_df.head())"
   ]
  },
  {
   "cell_type": "code",
   "execution_count": 15,
   "id": "12d030c6",
   "metadata": {},
   "outputs": [],
   "source": [
    "# Save the DataFrame with sentiment scores, categories, and buckets to a CSV file\n",
    "customer_reviews_df.to_csv('Customer_Reviews_With_Sentiment_Analysis.csv', index=False)"
   ]
  }
 ],
 "metadata": {
  "kernelspec": {
   "display_name": "Python 3 (ipykernel)",
   "language": "python",
   "name": "python3"
  },
  "language_info": {
   "codemirror_mode": {
    "name": "ipython",
    "version": 3
   },
   "file_extension": ".py",
   "mimetype": "text/x-python",
   "name": "python",
   "nbconvert_exporter": "python",
   "pygments_lexer": "ipython3",
   "version": "3.11.5"
  }
 },
 "nbformat": 4,
 "nbformat_minor": 5
}
